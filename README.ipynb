{
 "cells": [
  {
   "cell_type": "markdown",
   "metadata": {},
   "source": [
    "# Project: Gene Sequence Results\n",
    "#### Laurent Ehrlich: ehrlich@medicine.tamhsc.edu\n",
    "\n",
    "This iPython Notebook serves to describe the computational steps we performed in analyzing the gene sequence data. Each section describes one python script, and the sections also itemize, in sequential order, the steps of the analysis. \n",
    "\n",
    "___"
   ]
  },
  {
   "cell_type": "markdown",
   "metadata": {},
   "source": [
    "## Script: analyze_isoforms.py\n",
    "The python script titled \"analyze_isoforms.py\" first opens the text file \"file_manifest.txt\". Below the first 6 rows of \"file_manifest.txt\" are printed, e.g. the rows which corresponds to Sample TCGA-ZH-A8Y4-01. The columns titled \"Platform Type\", \"Center\", \"Platform\", \"Level\" can be collated together with backslashes to form the path directory where the files in the column title \"File Name\" can be found: RNASeqV2/UNC__IlluminaHiSeq_RNASeqV2/Level_3/."
   ]
  },
  {
   "cell_type": "code",
   "execution_count": 1,
   "metadata": {
    "collapsed": true
   },
   "outputs": [],
   "source": [
    "#import analyze_isoforms"
   ]
  },
  {
   "cell_type": "code",
   "execution_count": 27,
   "metadata": {
    "collapsed": false
   },
   "outputs": [
    {
     "data": {
      "text/html": [
       "<div>\n",
       "<table border=\"1\" class=\"dataframe\">\n",
       "  <thead>\n",
       "    <tr style=\"text-align: right;\">\n",
       "      <th></th>\n",
       "      <th>Platform Type</th>\n",
       "      <th>Center</th>\n",
       "      <th>Platform</th>\n",
       "      <th>Level</th>\n",
       "      <th>Sample</th>\n",
       "      <th>Barcode</th>\n",
       "      <th>File Name</th>\n",
       "    </tr>\n",
       "  </thead>\n",
       "  <tbody>\n",
       "    <tr>\n",
       "      <th>0</th>\n",
       "      <td>RNASeqV2</td>\n",
       "      <td>UNC</td>\n",
       "      <td>IlluminaHiSeq_RNASeqV2</td>\n",
       "      <td>3</td>\n",
       "      <td>TCGA-ZH-A8Y4-01</td>\n",
       "      <td>TCGA-ZH-A8Y4-01A-11R-A41I-07</td>\n",
       "      <td>unc.edu.012cd145-9f6c-4b79-b929-3f42f61e3dce./...</td>\n",
       "    </tr>\n",
       "    <tr>\n",
       "      <th>1</th>\n",
       "      <td>RNASeqV2</td>\n",
       "      <td>UNC</td>\n",
       "      <td>IlluminaHiSeq_RNASeqV2</td>\n",
       "      <td>3</td>\n",
       "      <td>TCGA-ZH-A8Y4-01</td>\n",
       "      <td>TCGA-ZH-A8Y4-01A-11R-A41I-07</td>\n",
       "      <td>unc.edu.012cd145-9f6c-4b79-b929-3f42f61e3dce.2...</td>\n",
       "    </tr>\n",
       "    <tr>\n",
       "      <th>2</th>\n",
       "      <td>RNASeqV2</td>\n",
       "      <td>UNC</td>\n",
       "      <td>IlluminaHiSeq_RNASeqV2</td>\n",
       "      <td>3</td>\n",
       "      <td>TCGA-ZH-A8Y4-01</td>\n",
       "      <td>TCGA-ZH-A8Y4-01A-11R-A41I-07</td>\n",
       "      <td>unc.edu.012cd145-9f6c-4b79-b929-3f42f61e3dce.2...</td>\n",
       "    </tr>\n",
       "    <tr>\n",
       "      <th>3</th>\n",
       "      <td>RNASeqV2</td>\n",
       "      <td>UNC</td>\n",
       "      <td>IlluminaHiSeq_RNASeqV2</td>\n",
       "      <td>3</td>\n",
       "      <td>TCGA-ZH-A8Y4-01</td>\n",
       "      <td>TCGA-ZH-A8Y4-01A-11R-A41I-07</td>\n",
       "      <td>unc.edu.012cd145-9f6c-4b79-b929-3f42f61e3dce.2...</td>\n",
       "    </tr>\n",
       "    <tr>\n",
       "      <th>4</th>\n",
       "      <td>RNASeqV2</td>\n",
       "      <td>UNC</td>\n",
       "      <td>IlluminaHiSeq_RNASeqV2</td>\n",
       "      <td>3</td>\n",
       "      <td>TCGA-ZH-A8Y4-01</td>\n",
       "      <td>TCGA-ZH-A8Y4-01A-11R-A41I-07</td>\n",
       "      <td>unc.edu.012cd145-9f6c-4b79-b929-3f42f61e3dce.2...</td>\n",
       "    </tr>\n",
       "    <tr>\n",
       "      <th>5</th>\n",
       "      <td>RNASeqV2</td>\n",
       "      <td>UNC</td>\n",
       "      <td>IlluminaHiSeq_RNASeqV2</td>\n",
       "      <td>3</td>\n",
       "      <td>TCGA-ZH-A8Y4-01</td>\n",
       "      <td>TCGA-ZH-A8Y4-01A-11R-A41I-07</td>\n",
       "      <td>unc.edu.012cd145-9f6c-4b79-b929-3f42f61e3dce.2...</td>\n",
       "    </tr>\n",
       "  </tbody>\n",
       "</table>\n",
       "</div>"
      ],
      "text/plain": [
       "  Platform Type Center                Platform Level           Sample  \\\n",
       "0      RNASeqV2    UNC  IlluminaHiSeq_RNASeqV2     3  TCGA-ZH-A8Y4-01   \n",
       "1      RNASeqV2    UNC  IlluminaHiSeq_RNASeqV2     3  TCGA-ZH-A8Y4-01   \n",
       "2      RNASeqV2    UNC  IlluminaHiSeq_RNASeqV2     3  TCGA-ZH-A8Y4-01   \n",
       "3      RNASeqV2    UNC  IlluminaHiSeq_RNASeqV2     3  TCGA-ZH-A8Y4-01   \n",
       "4      RNASeqV2    UNC  IlluminaHiSeq_RNASeqV2     3  TCGA-ZH-A8Y4-01   \n",
       "5      RNASeqV2    UNC  IlluminaHiSeq_RNASeqV2     3  TCGA-ZH-A8Y4-01   \n",
       "\n",
       "                        Barcode  \\\n",
       "0  TCGA-ZH-A8Y4-01A-11R-A41I-07   \n",
       "1  TCGA-ZH-A8Y4-01A-11R-A41I-07   \n",
       "2  TCGA-ZH-A8Y4-01A-11R-A41I-07   \n",
       "3  TCGA-ZH-A8Y4-01A-11R-A41I-07   \n",
       "4  TCGA-ZH-A8Y4-01A-11R-A41I-07   \n",
       "5  TCGA-ZH-A8Y4-01A-11R-A41I-07   \n",
       "\n",
       "                                           File Name  \n",
       "0  unc.edu.012cd145-9f6c-4b79-b929-3f42f61e3dce./...  \n",
       "1  unc.edu.012cd145-9f6c-4b79-b929-3f42f61e3dce.2...  \n",
       "2  unc.edu.012cd145-9f6c-4b79-b929-3f42f61e3dce.2...  \n",
       "3  unc.edu.012cd145-9f6c-4b79-b929-3f42f61e3dce.2...  \n",
       "4  unc.edu.012cd145-9f6c-4b79-b929-3f42f61e3dce.2...  \n",
       "5  unc.edu.012cd145-9f6c-4b79-b929-3f42f61e3dce.2...  "
      ]
     },
     "execution_count": 27,
     "metadata": {},
     "output_type": "execute_result"
    }
   ],
   "source": [
    "file_manifest.iloc[:6]"
   ]
  },
  {
   "cell_type": "markdown",
   "metadata": {},
   "source": [
    "For a given sample, its \"\\*rsem\\*genes.results\\*\" file matches its Gene IDs to its Transcript IDs, and its \"\\*rsem\\*isoform.normalized_results\\*\" file gives the Normalized Count for its Isoform IDs. The \"analyze_isoforms.py\" script reads these \"\\*rsem\\*\" files into python as pandas DataFrames and merges them into a single table by matching Transcript IDs to Isoform IDs. The resulting table is named \"isoforms\" and is written to \"geneSequenceResults.db\", our SQLite3 database file."
   ]
  },
  {
   "cell_type": "code",
   "execution_count": 30,
   "metadata": {
    "collapsed": false
   },
   "outputs": [
    {
     "name": "stdout",
     "output_type": "stream",
     "text": [
      "       gene_id  raw_count  scaled_estimate          transcript_id\n",
      "0  ?|100130426       0.00     0.000000e+00             uc011lsn.1\n",
      "1  ?|100133144       6.42     2.105984e-07  uc010unu.1,uc010uoa.1\n",
      "2  ?|100134869      19.58     4.641683e-07  uc002bgz.2,uc002bic.2\n",
      "3      ?|10357     154.78     1.179019e-05             uc010zzl.1\n",
      "4      ?|10431    2264.00     7.746698e-05  uc001jiu.2,uc010qhg.1\n",
      "\n",
      "\n",
      "   isoform_id  normalized_count\n",
      "0  uc011lsn.1            0.0000\n",
      "1  uc010unu.1            3.4286\n",
      "2  uc010uoa.1            0.0000\n",
      "3  uc002bgz.2           10.4567\n",
      "4  uc002bic.2            0.0000\n",
      "\n",
      "\n"
     ]
    },
    {
     "data": {
      "text/html": [
       "<div>\n",
       "<table border=\"1\" class=\"dataframe\">\n",
       "  <thead>\n",
       "    <tr style=\"text-align: right;\">\n",
       "      <th></th>\n",
       "      <th>geneid</th>\n",
       "      <th>isoformid</th>\n",
       "      <th>normcount</th>\n",
       "      <th>barcode</th>\n",
       "      <th>tissuetype</th>\n",
       "    </tr>\n",
       "  </thead>\n",
       "  <tbody>\n",
       "    <tr>\n",
       "      <th>0</th>\n",
       "      <td>?|100130426</td>\n",
       "      <td>uc011lsn.1</td>\n",
       "      <td>0.0000</td>\n",
       "      <td>TCGA-ZH-A8Y4-01A-11R-A41I-07</td>\n",
       "      <td>TN</td>\n",
       "    </tr>\n",
       "    <tr>\n",
       "      <th>1</th>\n",
       "      <td>?|100133144</td>\n",
       "      <td>uc010unu.1</td>\n",
       "      <td>3.4286</td>\n",
       "      <td>TCGA-ZH-A8Y4-01A-11R-A41I-07</td>\n",
       "      <td>TN</td>\n",
       "    </tr>\n",
       "    <tr>\n",
       "      <th>2</th>\n",
       "      <td>?|100133144</td>\n",
       "      <td>uc010uoa.1</td>\n",
       "      <td>0.0000</td>\n",
       "      <td>TCGA-ZH-A8Y4-01A-11R-A41I-07</td>\n",
       "      <td>TN</td>\n",
       "    </tr>\n",
       "    <tr>\n",
       "      <th>3</th>\n",
       "      <td>?|100134869</td>\n",
       "      <td>uc002bgz.2</td>\n",
       "      <td>10.4567</td>\n",
       "      <td>TCGA-ZH-A8Y4-01A-11R-A41I-07</td>\n",
       "      <td>TN</td>\n",
       "    </tr>\n",
       "    <tr>\n",
       "      <th>4</th>\n",
       "      <td>?|100134869</td>\n",
       "      <td>uc002bic.2</td>\n",
       "      <td>0.0000</td>\n",
       "      <td>TCGA-ZH-A8Y4-01A-11R-A41I-07</td>\n",
       "      <td>TN</td>\n",
       "    </tr>\n",
       "  </tbody>\n",
       "</table>\n",
       "</div>"
      ],
      "text/plain": [
       "        geneid   isoformid  normcount                       barcode tissuetype\n",
       "0  ?|100130426  uc011lsn.1     0.0000  TCGA-ZH-A8Y4-01A-11R-A41I-07         TN\n",
       "1  ?|100133144  uc010unu.1     3.4286  TCGA-ZH-A8Y4-01A-11R-A41I-07         TN\n",
       "2  ?|100133144  uc010uoa.1     0.0000  TCGA-ZH-A8Y4-01A-11R-A41I-07         TN\n",
       "3  ?|100134869  uc002bgz.2    10.4567  TCGA-ZH-A8Y4-01A-11R-A41I-07         TN\n",
       "4  ?|100134869  uc002bic.2     0.0000  TCGA-ZH-A8Y4-01A-11R-A41I-07         TN"
      ]
     },
     "execution_count": 30,
     "metadata": {},
     "output_type": "execute_result"
    }
   ],
   "source": [
    "print(genes_results.head())\n",
    "print(\"\\n\")\n",
    "print(isoforms_normalized_results.head())\n",
    "print(\"\\n\")\n",
    "merged_genes_isoforms.head()"
   ]
  },
  {
   "cell_type": "markdown",
   "metadata": {},
   "source": [
    "## Script: analyze_genes.py\n",
    "Similarly, the python script titled \"analyze_genes.py\" performs the analogous file manipulation and dataframe merges for the Gene data. The results are written to the same \"geneSequenceResults.db\" under a new table named \"genes\"."
   ]
  },
  {
   "cell_type": "code",
   "execution_count": 2,
   "metadata": {
    "collapsed": true
   },
   "outputs": [],
   "source": [
    "#import analyze_genes"
   ]
  },
  {
   "cell_type": "markdown",
   "metadata": {},
   "source": [
    "___"
   ]
  },
  {
   "cell_type": "markdown",
   "metadata": {},
   "source": [
    "## Script: match_isoform_counts.py\n",
    "Picking up where the previous scripts left off, the \"match_isoform_counts.py\" script finds entries with the same Gene ID, Isoform ID, and Sample, and aligns their TN and NT norm counts onto the same row. We write the results to a table named \"isoform_pairs\" in database \"geneSequenceResults.db\"."
   ]
  },
  {
   "cell_type": "code",
   "execution_count": 18,
   "metadata": {
    "collapsed": true
   },
   "outputs": [],
   "source": [
    "#import match_isoform_counts"
   ]
  },
  {
   "cell_type": "code",
   "execution_count": 46,
   "metadata": {
    "collapsed": false
   },
   "outputs": [
    {
     "data": {
      "text/html": [
       "<div>\n",
       "<table border=\"1\" class=\"dataframe\">\n",
       "  <thead>\n",
       "    <tr style=\"text-align: right;\">\n",
       "      <th></th>\n",
       "      <th>geneid</th>\n",
       "      <th>isoformid</th>\n",
       "      <th>normcount</th>\n",
       "      <th>barcode</th>\n",
       "      <th>tissuetype</th>\n",
       "      <th>sample</th>\n",
       "    </tr>\n",
       "  </thead>\n",
       "  <tbody>\n",
       "    <tr>\n",
       "      <th>0</th>\n",
       "      <td>?|100130426</td>\n",
       "      <td>uc011lsn.1</td>\n",
       "      <td>0.0000</td>\n",
       "      <td>TCGA-W5-AA2R-11A-11R-A41I-07</td>\n",
       "      <td>NT</td>\n",
       "      <td>TCGA-W5-AA2R</td>\n",
       "    </tr>\n",
       "    <tr>\n",
       "      <th>1</th>\n",
       "      <td>?|100130426</td>\n",
       "      <td>uc011lsn.1</td>\n",
       "      <td>0.5111</td>\n",
       "      <td>TCGA-W5-AA2R-01A-11R-A41I-07</td>\n",
       "      <td>TN</td>\n",
       "      <td>TCGA-W5-AA2R</td>\n",
       "    </tr>\n",
       "  </tbody>\n",
       "</table>\n",
       "</div>"
      ],
      "text/plain": [
       "        geneid   isoformid  normcount                       barcode  \\\n",
       "0  ?|100130426  uc011lsn.1     0.0000  TCGA-W5-AA2R-11A-11R-A41I-07   \n",
       "1  ?|100130426  uc011lsn.1     0.5111  TCGA-W5-AA2R-01A-11R-A41I-07   \n",
       "\n",
       "  tissuetype        sample  \n",
       "0         NT  TCGA-W5-AA2R  \n",
       "1         TN  TCGA-W5-AA2R  "
      ]
     },
     "execution_count": 46,
     "metadata": {},
     "output_type": "execute_result"
    }
   ],
   "source": [
    "pandas.merge(NT_check, TN_check, how='outer')"
   ]
  },
  {
   "cell_type": "code",
   "execution_count": 52,
   "metadata": {
    "collapsed": false
   },
   "outputs": [
    {
     "data": {
      "text/html": [
       "<div>\n",
       "<table border=\"1\" class=\"dataframe\">\n",
       "  <thead>\n",
       "    <tr style=\"text-align: right;\">\n",
       "      <th></th>\n",
       "      <th>isoformid</th>\n",
       "      <th>sample</th>\n",
       "      <th>geneid</th>\n",
       "      <th>normcount_TN</th>\n",
       "      <th>normcount_NT</th>\n",
       "    </tr>\n",
       "  </thead>\n",
       "  <tbody>\n",
       "    <tr>\n",
       "      <th>0</th>\n",
       "      <td>uc011lsn.1</td>\n",
       "      <td>TCGA-W5-AA2R</td>\n",
       "      <td>?|100130426</td>\n",
       "      <td>0.5111</td>\n",
       "      <td>0</td>\n",
       "    </tr>\n",
       "  </tbody>\n",
       "</table>\n",
       "</div>"
      ],
      "text/plain": [
       "    isoformid        sample       geneid  normcount_TN  normcount_NT\n",
       "0  uc011lsn.1  TCGA-W5-AA2R  ?|100130426        0.5111             0"
      ]
     },
     "execution_count": 52,
     "metadata": {},
     "output_type": "execute_result"
    }
   ],
   "source": [
    "pandas.merge(NT_check, TN_check, on=['geneid','isoformid','sample'], how='inner', suffixes=('_NT', '_TN'))[['isoformid','sample','geneid','normcount_TN','normcount_NT']]"
   ]
  },
  {
   "cell_type": "markdown",
   "metadata": {},
   "source": [
    "## Script: match_gene_counts.py\n",
    "Similarly, the python script titled \"match_gene_counts.py\" performs the analogous TN/NT norm counts merges for the Gene data. The results are written to \"geneSequenceResults.db\" under the table name \"gene_pairs\"."
   ]
  },
  {
   "cell_type": "code",
   "execution_count": 16,
   "metadata": {
    "collapsed": true
   },
   "outputs": [],
   "source": [
    "#import match_gene_counts"
   ]
  },
  {
   "cell_type": "markdown",
   "metadata": {},
   "source": [
    "___"
   ]
  },
  {
   "cell_type": "markdown",
   "metadata": {},
   "source": [
    "## Script: paired_ttest_genes.py\n",
    "\n",
    "The script \"paired_ttest_genes.py\" performs a paired t-test on each Gene ID's 9 samples where the paired observations are the NT and TN norm counts, returning the computed t-values and p-values and storing these results in the table \"gene_paired_ttest\" within \"geneSequenceResults.db\".\n",
    "\n",
    "**WARNING:** The computational run time for this script is ~3 hours."
   ]
  },
  {
   "cell_type": "code",
   "execution_count": 4,
   "metadata": {
    "collapsed": true
   },
   "outputs": [],
   "source": [
    "#import paired_ttest_genes"
   ]
  },
  {
   "cell_type": "code",
   "execution_count": 59,
   "metadata": {
    "collapsed": false
   },
   "outputs": [
    {
     "data": {
      "text/html": [
       "<div>\n",
       "<table border=\"1\" class=\"dataframe\">\n",
       "  <thead>\n",
       "    <tr style=\"text-align: right;\">\n",
       "      <th></th>\n",
       "      <th>geneid</th>\n",
       "      <th>tvalue</th>\n",
       "      <th>pvalue</th>\n",
       "    </tr>\n",
       "  </thead>\n",
       "  <tbody>\n",
       "    <tr>\n",
       "      <th>0</th>\n",
       "      <td>?|100130426</td>\n",
       "      <td>1.000000</td>\n",
       "      <td>0.346594</td>\n",
       "    </tr>\n",
       "    <tr>\n",
       "      <th>1</th>\n",
       "      <td>?|100133144</td>\n",
       "      <td>2.641350</td>\n",
       "      <td>0.029651</td>\n",
       "    </tr>\n",
       "    <tr>\n",
       "      <th>2</th>\n",
       "      <td>?|100134869</td>\n",
       "      <td>2.976060</td>\n",
       "      <td>0.017707</td>\n",
       "    </tr>\n",
       "    <tr>\n",
       "      <th>3</th>\n",
       "      <td>?|10357</td>\n",
       "      <td>0.680083</td>\n",
       "      <td>0.515646</td>\n",
       "    </tr>\n",
       "    <tr>\n",
       "      <th>4</th>\n",
       "      <td>?|10431</td>\n",
       "      <td>2.038709</td>\n",
       "      <td>0.075826</td>\n",
       "    </tr>\n",
       "    <tr>\n",
       "      <th>5</th>\n",
       "      <td>?|136542</td>\n",
       "      <td>NaN</td>\n",
       "      <td>NaN</td>\n",
       "    </tr>\n",
       "    <tr>\n",
       "      <th>6</th>\n",
       "      <td>?|155060</td>\n",
       "      <td>2.542636</td>\n",
       "      <td>0.034569</td>\n",
       "    </tr>\n",
       "    <tr>\n",
       "      <th>7</th>\n",
       "      <td>?|26823</td>\n",
       "      <td>3.495675</td>\n",
       "      <td>0.008130</td>\n",
       "    </tr>\n",
       "    <tr>\n",
       "      <th>8</th>\n",
       "      <td>?|280660</td>\n",
       "      <td>NaN</td>\n",
       "      <td>NaN</td>\n",
       "    </tr>\n",
       "    <tr>\n",
       "      <th>9</th>\n",
       "      <td>?|317712</td>\n",
       "      <td>NaN</td>\n",
       "      <td>NaN</td>\n",
       "    </tr>\n",
       "  </tbody>\n",
       "</table>\n",
       "</div>"
      ],
      "text/plain": [
       "        geneid    tvalue    pvalue\n",
       "0  ?|100130426  1.000000  0.346594\n",
       "1  ?|100133144  2.641350  0.029651\n",
       "2  ?|100134869  2.976060  0.017707\n",
       "3      ?|10357  0.680083  0.515646\n",
       "4      ?|10431  2.038709  0.075826\n",
       "5     ?|136542       NaN       NaN\n",
       "6     ?|155060  2.542636  0.034569\n",
       "7      ?|26823  3.495675  0.008130\n",
       "8     ?|280660       NaN       NaN\n",
       "9     ?|317712       NaN       NaN"
      ]
     },
     "execution_count": 59,
     "metadata": {},
     "output_type": "execute_result"
    }
   ],
   "source": [
    "pandas.read_sql_query(\"select * from gene_paired_ttest limit 10\", con)"
   ]
  },
  {
   "cell_type": "markdown",
   "metadata": {},
   "source": [
    "## Script: paired_ttest_isoforms.py\n",
    "Similarly, the python script titled \"paired_ttest_isoforms.py\" performs the analogous paired t-test on each Isoform ID's 9 samples of NT and TN norm counts. The results are written to \"geneSequenceResults.db\" under the table name \"isoform_pairs\".\n",
    "\n",
    "**WARNING:** The computational run time for this script is ~9 hours."
   ]
  },
  {
   "cell_type": "code",
   "execution_count": 17,
   "metadata": {
    "collapsed": true
   },
   "outputs": [],
   "source": [
    "#import paired_ttest_isoforms"
   ]
  },
  {
   "cell_type": "markdown",
   "metadata": {},
   "source": [
    "___"
   ]
  },
  {
   "cell_type": "markdown",
   "metadata": {},
   "source": [
    "## Script: correlations_genes.py\n",
    "\n",
    "To run the script \"correlations_genes.py\" you must specify two command line arguments: the first is the gene id of interest, and the second is the alpha-level of correlation significance you wish to detect. In this example, we specify the 'MEN1' gene and a $\\alpha$=0.1 significance-level.\n",
    "\n",
    "The script \"correlations_genes.py\" uses the differences between NT and TN norm counts of a Gene ID's 9 samples to compute its sample correlation with that of the MEN1 gene. This script then determines which correlation values are statistically significant by calculating their p-values and using the Holm-Bonferroni adjustment with a specified $\\alpha$-level. Results are written to the table \"genes_significant_with_men1\" in \"geneSequenceResults.db\".\n",
    "\n",
    "**Holm-Bonferroni:** Because we are testing 20,531 hypotheses, we must consider that this increases the chances of randomly observing a high correlation and erroneously classifying it as 'significant'. To correct for this, we use the Holm-Bonferroni adjustment for Multiple Comparisons which improves the power of our hypotheses testing."
   ]
  },
  {
   "cell_type": "code",
   "execution_count": 15,
   "metadata": {
    "collapsed": false
   },
   "outputs": [
    {
     "name": "stdout",
     "output_type": "stream",
     "text": [
      "\n",
      "Number of significantly correlated genes: 1\n",
      "\n",
      "              p-values  p-adjusted 0.1-significant\n",
      "geneid                                            \n",
      "MRPL16|54948  0.000004    0.075452            True\n"
     ]
    }
   ],
   "source": [
    "#import correlations_genes"
   ]
  },
  {
   "cell_type": "markdown",
   "metadata": {
    "collapsed": true
   },
   "source": [
    "## Script: correlations_isoforms.py\n",
    "Similarly, the python script titled \"correlations_isoforms.py\" performs the analogous significance correlation analysis of each of MEN1's 9 isoforms against the 20,531 genes. The results are written to \"geneSequenceResults.db\" under the table name \"genes_significant_with_men1_isoforms\"."
   ]
  },
  {
   "cell_type": "code",
   "execution_count": null,
   "metadata": {
    "collapsed": true
   },
   "outputs": [],
   "source": [
    "#import correlations_isoforms"
   ]
  },
  {
   "cell_type": "markdown",
   "metadata": {},
   "source": [
    "___"
   ]
  }
 ],
 "metadata": {
  "kernelspec": {
   "display_name": "Python 2",
   "language": "python",
   "name": "python2"
  },
  "language_info": {
   "codemirror_mode": {
    "name": "ipython",
    "version": 2
   },
   "file_extension": ".py",
   "mimetype": "text/x-python",
   "name": "python",
   "nbconvert_exporter": "python",
   "pygments_lexer": "ipython2",
   "version": "2.7.10"
  }
 },
 "nbformat": 4,
 "nbformat_minor": 0
}
